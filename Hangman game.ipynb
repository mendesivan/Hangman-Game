{
 "cells": [
  {
   "cell_type": "code",
   "execution_count": null,
   "metadata": {},
   "outputs": [],
   "source": [
    "#Python game - Hangman\n",
    "\n",
    "import random\n",
    "\n",
    "print(\"Create your own wordbank or utilize the below wordbank.\")\n"
    "wordbank = ('ABRUPTLY','ABYSS','AXIOM','AWKWARD','BUSINESSMAN','MANKIND','ASKEW','CHRISTMAS', 'BAYOU','BEEKEEPER','COBWEB','BUZZING','EMBEZZLE','FISHHOOK')\n",
    "words = random.choice(wordbank)\n",
    "user = None\n",
    "turn = 10\n",
    "your_word = '_ ' * len(words)\n",
    "your_guess = your_word[0:len(your_word)-1]\n",
    "list1 = your_guess.split()\n",
    "\n",
    "print(\"Welcome to the Hangman game! You have 10 guesses to solve the puzzle. Let's get started. Good luck!\\n\")\n",
    "\n",
    "while user == None:\n",
    "    user = input('Enter your first letter:').upper()\n",
    "    if len(user) != 1:\n",
    "        print('Please guess again.')\n",
    "        user = None\n",
    "    for i in range(0, len(words)):\n",
    "        if words[i] == user:\n",
    "            list1[i] = user\n",
    "    your_guess = ''.join(list1)\n",
    "    print('\\nYour guess is: {}'.format(your_guess))\n",
    "    turn -= 1\n",
    "    print('You have {} chances left to guess'.format(turn))\n",
    "\n",
    "    if turn == 1:\n",
    "        print(\"You have one last guess, choose wisely.\")\n",
    "      \n",
    "    if your_guess == words:\n",
    "        if your_guess == words:\n",
    "            print('You win! Great job!')\n",
    "        else:\n",
    "            print('\\nBetter luck next time. Game over.')\n",
    "            print(\"The solution was: \",words)\n",
    "        break\n",
    "    else:\n",
    "        user = None"
   ]
  }
 ],
 "metadata": {
  "kernelspec": {
   "display_name": "Python 3",
   "language": "python",
   "name": "python3"
  },
  "language_info": {
   "codemirror_mode": {
    "name": "ipython",
    "version": 3
   },
   "file_extension": ".py",
   "mimetype": "text/x-python",
   "name": "python",
   "nbconvert_exporter": "python",
   "pygments_lexer": "ipython3",
   "version": "3.7.0"
  }
 },
 "nbformat": 4,
 "nbformat_minor": 2
}
